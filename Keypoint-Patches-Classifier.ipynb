{
 "cells": [
  {
   "cell_type": "markdown",
   "metadata": {},
   "source": [
    "Note this approach doesn't really work. The network learns to pick the class with the most values at the expense of others. I hypothesis that this is due to the signal-noise problem when extracting patches. It is also due to the space between patches that is important.\n",
    "\n",
    "The next thing to try is to bring-up our own CNN model with full image patch - scaled to constant size. "
   ]
  },
  {
   "cell_type": "markdown",
   "metadata": {},
   "source": [
    "## Patch based approach"
   ]
  },
  {
   "cell_type": "markdown",
   "metadata": {},
   "source": [
    "Dataset"
   ]
  },
  {
   "cell_type": "code",
   "execution_count": 68,
   "metadata": {},
   "outputs": [],
   "source": [
    "import os\n",
    "import time\n",
    "import numpy as np\n",
    "import face_recognition\n",
    "from skimage.transform import resize\n",
    "from skimage.util import pad\n",
    "\n",
    "%matplotlib inline\n",
    "import matplotlib.pyplot as plt\n",
    "\n",
    "\n",
    "LABELS = ['22q11','Angelman','Apert','CDL','Down','FragileX','Marfan','Progeria','Sotos','TreacherCollins','Turner','Williams']\n",
    "KERNEL_SIZE = 32\n",
    "IMAGE_PATCH_SIZE = 256\n",
    "EXTRA_PAD = 32\n",
    "\n",
    "LABELS.remove('CDL')\n",
    "\n",
    "\n",
    "def load_dataset_patches(setPath):\n",
    "    X = []\n",
    "    Y = []\n",
    "\n",
    "    for label in LABELS:\n",
    "            \n",
    "        directory = os.path.join(setPath,label)\n",
    "        for f in os.listdir(directory):\n",
    "            path = os.path.join(directory,f)\n",
    "            \n",
    "            if os.path.isfile(path) and f != 'desktop.ini':\n",
    "                \n",
    "                # Extract landmarks\n",
    "                image = face_recognition.load_image_file(path)\n",
    "                face_landmarks_list = face_recognition.face_landmarks(image)\n",
    "\n",
    "                # Process faces\n",
    "                for landmarks in face_landmarks_list:\n",
    "                    \n",
    "                    # find dimensions\n",
    "                    top = image.shape[0]\n",
    "                    bottom = 0\n",
    "                    left = image.shape[1]\n",
    "                    right = 0\n",
    "                    \n",
    "                    for featureType in landmarks.keys():\n",
    "                        for point in landmarks[featureType]:\n",
    "                            (x,y) = point\n",
    "                            \n",
    "                            if x < left:\n",
    "                                left = x\n",
    "                            if x > right:\n",
    "                                right = x\n",
    "                            if y < top:\n",
    "                                top = y\n",
    "                            if y > bottom:\n",
    "                                bottom = y\n",
    "                                \n",
    "                    top = top - EXTRA_PAD if top - EXTRA_PAD >= 0 else 0\n",
    "                    bottom = bottom + EXTRA_PAD if bottom + EXTRA_PAD < image.shape[0] else image.shape[0] - 1\n",
    "                    left = left - EXTRA_PAD if left - EXTRA_PAD >= 0 else 0\n",
    "                    right = right + EXTRA_PAD if right + EXTRA_PAD < image.shape[1] else image.shape[1] - 1\n",
    "                    \n",
    "                    # extract patch from image\n",
    "                    img_patch = image[top:bottom,left:right,:]\n",
    "                    img_patch_resized = resize(img_patch,(IMAGE_PATCH_SIZE,IMAGE_PATCH_SIZE,3))\n",
    "                    img_pad_patch = pad(img_patch_resized,[\n",
    "                        (KERNEL_SIZE, KERNEL_SIZE),\n",
    "                        (KERNEL_SIZE, KERNEL_SIZE),\n",
    "                        (0, 0)\n",
    "                    ],'constant')\n",
    "                    \n",
    "                    # process points\n",
    "                    point_patches = []\n",
    "                    for featureType in landmarks.keys():\n",
    "                        for point in landmarks[featureType]:\n",
    "                            height = (bottom - top)\n",
    "                            width = (right - left)\n",
    "                            \n",
    "                            # Transform coordinate system to face center\n",
    "                            (x,y) = point\n",
    "                            yc = y - top - height / 2\n",
    "                            xc = x - left - width / 2\n",
    "                            \n",
    "                            # Find corresponding points in patch\n",
    "                            ycp = yc * IMAGE_PATCH_SIZE / height\n",
    "                            xcp = xc * IMAGE_PATCH_SIZE / width\n",
    "                            \n",
    "                            # Transform patch point coordinate system to patch origin (and account for padding)\n",
    "                            yp = ycp + IMAGE_PATCH_SIZE / 2 + KERNEL_SIZE\n",
    "                            xp = xcp + IMAGE_PATCH_SIZE / 2 + KERNEL_SIZE\n",
    "                            \n",
    "                            # Extract point-patch\n",
    "                            point_patch = img_pad_patch[\n",
    "                                int(yp-KERNEL_SIZE/2):int(yp+KERNEL_SIZE/2),\n",
    "                                int(xp-KERNEL_SIZE/2):int(xp+KERNEL_SIZE/2),\n",
    "                                :]\n",
    "                            point_patches.append(point_patch)\n",
    "                            if point_patch.shape != (32,32,3):\n",
    "                                print(point_patch.shape)\n",
    "\n",
    "                    X.append(point_patches)\n",
    "                    Y.append(label)\n",
    "                    \n",
    "    # pack into numpy structure\n",
    "    X_pack = np.zeros([len(X),KERNEL_SIZE,KERNEL_SIZE,72*3])\n",
    "    for i in range(0,len(X)):\n",
    "        for j in range(0,len(X[i])):\n",
    "            X_pack[i,:,:,j*3:(j+1)*3] = X[i][j]\n",
    "    Y_pack = np.array(Y)\n",
    "    \n",
    "    return X_pack, Y_pack"
   ]
  },
  {
   "cell_type": "code",
   "execution_count": 69,
   "metadata": {},
   "outputs": [
    {
     "name": "stdout",
     "output_type": "stream",
     "text": [
      "(265, 32, 32, 216)\n",
      "(265,)\n"
     ]
    }
   ],
   "source": [
    "X_test, y_test = load_dataset_patches('./data/raw/Test')\n",
    "print(X_test.shape)\n",
    "print(y_test.shape)"
   ]
  },
  {
   "cell_type": "code",
   "execution_count": 70,
   "metadata": {},
   "outputs": [
    {
     "name": "stdout",
     "output_type": "stream",
     "text": [
      "(862, 32, 32, 216)\n",
      "(862,)\n"
     ]
    }
   ],
   "source": [
    "X_train, y_train = load_dataset_patches('./data/raw/Train')\n",
    "print(X_train.shape)\n",
    "print(y_train.shape)"
   ]
  },
  {
   "cell_type": "code",
   "execution_count": 71,
   "metadata": {},
   "outputs": [
    {
     "name": "stdout",
     "output_type": "stream",
     "text": [
      "(258, 32, 32, 216)\n",
      "(258,)\n"
     ]
    }
   ],
   "source": [
    "X_val, y_val = load_dataset_patches('./data/raw/Validate')\n",
    "print(X_val.shape)\n",
    "print(y_val.shape)"
   ]
  },
  {
   "cell_type": "code",
   "execution_count": 72,
   "metadata": {},
   "outputs": [
    {
     "name": "stdout",
     "output_type": "stream",
     "text": [
      "(862, 11)\n",
      "(265, 11)\n"
     ]
    }
   ],
   "source": [
    "from sklearn.preprocessing import LabelBinarizer\n",
    "encoder = LabelBinarizer()\n",
    "Y_train = encoder.fit_transform(y_train)\n",
    "Y_test = encoder.transform(y_test)\n",
    "Y_val = encoder.transform(y_val)\n",
    "\n",
    "print(Y_train.shape)\n",
    "print(Y_test.shape)"
   ]
  },
  {
   "cell_type": "markdown",
   "metadata": {},
   "source": [
    "Model"
   ]
  },
  {
   "cell_type": "code",
   "execution_count": 73,
   "metadata": {},
   "outputs": [
    {
     "name": "stdout",
     "output_type": "stream",
     "text": [
      "Model: \"sequential_17\"\n",
      "_________________________________________________________________\n",
      "Layer (type)                 Output Shape              Param #   \n",
      "=================================================================\n",
      "conv2d_62 (Conv2D)           (None, 26, 26, 64)        677440    \n",
      "_________________________________________________________________\n",
      "conv2d_63 (Conv2D)           (None, 22, 22, 64)        102464    \n",
      "_________________________________________________________________\n",
      "conv2d_64 (Conv2D)           (None, 18, 18, 32)        51232     \n",
      "_________________________________________________________________\n",
      "conv2d_65 (Conv2D)           (None, 16, 16, 32)        9248      \n",
      "_________________________________________________________________\n",
      "conv2d_66 (Conv2D)           (None, 14, 14, 32)        9248      \n",
      "_________________________________________________________________\n",
      "flatten_15 (Flatten)         (None, 6272)              0         \n",
      "_________________________________________________________________\n",
      "dense_29 (Dense)             (None, 64)                401472    \n",
      "_________________________________________________________________\n",
      "dense_30 (Dense)             (None, 11)                715       \n",
      "=================================================================\n",
      "Total params: 1,251,819\n",
      "Trainable params: 1,251,819\n",
      "Non-trainable params: 0\n",
      "_________________________________________________________________\n"
     ]
    }
   ],
   "source": [
    "import keras\n",
    "\n",
    "from keras.models import Sequential\n",
    "from keras.layers import Dense, Conv2D, Dropout, Flatten, MaxPooling2D\n",
    "\n",
    "model = Sequential()\n",
    "model.add(Conv2D(64, (7,7), activation='relu', input_shape=(32,32,72*3)))\n",
    "model.add(Conv2D(64, (5,5), activation='relu'))\n",
    "model.add(Conv2D(32, (5,5), activation='relu'))\n",
    "model.add(Conv2D(32, (3,3), activation='relu'))\n",
    "model.add(Conv2D(32, (3,3), activation='relu'))\n",
    "#model.add(MaxPooling2D(pool_size=(2, 2)))\n",
    "#model.add(Dropout(0.25))\n",
    "\n",
    "model.add(Flatten())\n",
    "model.add(Dense(64, activation='relu'))\n",
    "#model.add(Dropout(0.5))\n",
    "model.add(Dense(11, activation='softmax'))\n",
    "\n",
    "model.compile(loss='categorical_crossentropy', optimizer='adam', metrics=['accuracy'])\n",
    "\n",
    "model.summary()"
   ]
  },
  {
   "cell_type": "markdown",
   "metadata": {},
   "source": [
    "Train"
   ]
  },
  {
   "cell_type": "code",
   "execution_count": 74,
   "metadata": {},
   "outputs": [
    {
     "name": "stdout",
     "output_type": "stream",
     "text": [
      "Train on 862 samples, validate on 258 samples\n",
      "Epoch 1/15\n",
      "862/862 [==============================] - 34s 39ms/step - loss: 2.6885 - accuracy: 0.1183 - val_loss: 1.9782 - val_accuracy: 0.1202\n",
      "Epoch 2/15\n",
      "862/862 [==============================] - 33s 39ms/step - loss: 2.1832 - accuracy: 0.1752 - val_loss: 2.4032 - val_accuracy: 0.0814\n",
      "Epoch 3/15\n",
      "862/862 [==============================] - 34s 39ms/step - loss: 2.1407 - accuracy: 0.1682 - val_loss: 2.1825 - val_accuracy: 0.5543\n",
      "Epoch 4/15\n",
      "862/862 [==============================] - 34s 39ms/step - loss: 2.1397 - accuracy: 0.1694 - val_loss: 2.3078 - val_accuracy: 0.0504\n",
      "Epoch 5/15\n",
      "862/862 [==============================] - 33s 39ms/step - loss: 2.1245 - accuracy: 0.1717 - val_loss: 2.2178 - val_accuracy: 0.0504\n",
      "Epoch 6/15\n",
      "862/862 [==============================] - 33s 39ms/step - loss: 2.1121 - accuracy: 0.1787 - val_loss: 2.1438 - val_accuracy: 0.0814\n",
      "Epoch 7/15\n",
      "862/862 [==============================] - 33s 39ms/step - loss: 2.1126 - accuracy: 0.1682 - val_loss: 2.1256 - val_accuracy: 0.0814\n",
      "Epoch 8/15\n",
      "862/862 [==============================] - 34s 39ms/step - loss: 2.1099 - accuracy: 0.1740 - val_loss: 2.1999 - val_accuracy: 0.0814\n",
      "Epoch 9/15\n",
      "862/862 [==============================] - 33s 39ms/step - loss: 2.1085 - accuracy: 0.1705 - val_loss: 2.1873 - val_accuracy: 0.0814\n",
      "Epoch 10/15\n",
      "862/862 [==============================] - 34s 39ms/step - loss: 2.1070 - accuracy: 0.1787 - val_loss: 2.1400 - val_accuracy: 0.0814\n",
      "Epoch 11/15\n",
      "862/862 [==============================] - 34s 39ms/step - loss: 2.1074 - accuracy: 0.1682 - val_loss: 2.2216 - val_accuracy: 0.0814\n",
      "Epoch 12/15\n",
      "862/862 [==============================] - 34s 39ms/step - loss: 2.1082 - accuracy: 0.1787 - val_loss: 2.1691 - val_accuracy: 0.0814\n",
      "Epoch 13/15\n",
      "862/862 [==============================] - 33s 38ms/step - loss: 2.1071 - accuracy: 0.1705 - val_loss: 2.1822 - val_accuracy: 0.0814\n",
      "Epoch 14/15\n",
      "862/862 [==============================] - 33s 38ms/step - loss: 2.1038 - accuracy: 0.1787 - val_loss: 2.1913 - val_accuracy: 0.0814\n",
      "Epoch 15/15\n",
      "862/862 [==============================] - 33s 39ms/step - loss: 2.1070 - accuracy: 0.1787 - val_loss: 2.1790 - val_accuracy: 0.0814\n",
      "<keras.callbacks.callbacks.History object at 0x7fe554537c18>\n"
     ]
    }
   ],
   "source": [
    "history = model.fit(X_train, Y_train, batch_size=8, epochs=15, shuffle=True, validation_data=(X_val,Y_val))\n",
    "print(history)"
   ]
  },
  {
   "cell_type": "markdown",
   "metadata": {},
   "source": [
    "Evaluate"
   ]
  },
  {
   "cell_type": "code",
   "execution_count": 75,
   "metadata": {},
   "outputs": [
    {
     "name": "stdout",
     "output_type": "stream",
     "text": [
      "862/862 [==============================] - 8s 9ms/step\n",
      "Train loss: 2.099910492686827\n",
      "Train accuracy: 0.17865429818630219\n"
     ]
    }
   ],
   "source": [
    "score = model.evaluate(X_train, Y_train, batch_size=32, verbose=1)\n",
    "print('Train loss:', score[0])\n",
    "print('Train accuracy:', score[1])"
   ]
  },
  {
   "cell_type": "code",
   "execution_count": 76,
   "metadata": {},
   "outputs": [],
   "source": [
    "from sklearn.metrics import confusion_matrix\n",
    "from sklearn.preprocessing import LabelEncoder\n",
    "\n",
    "Y_pred = model.predict(X_train)\n",
    "y_pred = encoder.inverse_transform(Y_pred)\n",
    "\n",
    "conf = confusion_matrix(y_train, y_pred)"
   ]
  },
  {
   "cell_type": "code",
   "execution_count": 77,
   "metadata": {},
   "outputs": [
    {
     "data": {
      "text/plain": [
       "<matplotlib.axes._subplots.AxesSubplot at 0x7fe570057198>"
      ]
     },
     "execution_count": 77,
     "metadata": {},
     "output_type": "execute_result"
    },
    {
     "data": {
      "image/png": "[encoded data removed]",
      "text/plain": [
       "<Figure size 720x504 with 2 Axes>"
      ]
     },
     "metadata": {
      "needs_background": "light"
     },
     "output_type": "display_data"
    }
   ],
   "source": [
    "import seaborn as sn\n",
    "import pandas as pd\n",
    "import matplotlib.pyplot as plt\n",
    "\n",
    "df_cm = pd.DataFrame(conf, index = [i for i in LABELS],\n",
    "                  columns = [i for i in LABELS])\n",
    "plt.figure(figsize = (10,7))\n",
    "sn.heatmap(df_cm, annot=True)"
   ]
  },
  {
   "cell_type": "code",
   "execution_count": 78,
   "metadata": {},
   "outputs": [
    {
     "name": "stdout",
     "output_type": "stream",
     "text": [
      "258/258 [==============================] - 2s 9ms/step\n",
      "Validation loss: 2.179004049116327\n",
      "Validation accuracy: 0.08139535039663315\n"
     ]
    }
   ],
   "source": [
    "score = model.evaluate(X_val, Y_val, batch_size=32, verbose=1)\n",
    "print('Validation loss:', score[0])\n",
    "print('Validation accuracy:', score[1])"
   ]
  },
  {
   "cell_type": "code",
   "execution_count": 79,
   "metadata": {},
   "outputs": [
    {
     "name": "stdout",
     "output_type": "stream",
     "text": [
      "265/265 [==============================] - 2s 9ms/step\n",
      "Test loss: 2.0920120455184072\n",
      "Test accuracy: 0.17358490824699402\n"
     ]
    }
   ],
   "source": [
    "score = model.evaluate(X_test, Y_test, batch_size=32, verbose=1)\n",
    "print('Test loss:', score[0])\n",
    "print('Test accuracy:', score[1])"
   ]
  },
  {
   "cell_type": "code",
   "execution_count": 80,
   "metadata": {},
   "outputs": [],
   "source": [
    "from sklearn.metrics import confusion_matrix\n",
    "from sklearn.preprocessing import LabelEncoder\n",
    "\n",
    "Y_pred = model.predict(X_test)\n",
    "y_pred = encoder.inverse_transform(Y_pred)\n",
    "\n",
    "conf = confusion_matrix(y_test, y_pred)"
   ]
  },
  {
   "cell_type": "code",
   "execution_count": 81,
   "metadata": {},
   "outputs": [
    {
     "data": {
      "text/plain": [
       "<matplotlib.axes._subplots.AxesSubplot at 0x7fe56fdf75c0>"
      ]
     },
     "execution_count": 81,
     "metadata": {},
     "output_type": "execute_result"
    },
    {
     "data": {
      "image/png": "[encoded data removed]",
      "text/plain": [
       "<Figure size 720x504 with 2 Axes>"
      ]
     },
     "metadata": {
      "needs_background": "light"
     },
     "output_type": "display_data"
    }
   ],
   "source": [
    "import seaborn as sn\n",
    "import pandas as pd\n",
    "import matplotlib.pyplot as plt\n",
    "\n",
    "df_cm = pd.DataFrame(conf, index = [i for i in LABELS],\n",
    "                  columns = [i for i in LABELS])\n",
    "plt.figure(figsize = (10,7))\n",
    "sn.heatmap(df_cm, annot=True)"
   ]
  },
  {
   "cell_type": "markdown",
   "metadata": {},
   "source": [
    "Save"
   ]
  },
  {
   "cell_type": "code",
   "execution_count": 82,
   "metadata": {},
   "outputs": [
    {
     "name": "stdout",
     "output_type": "stream",
     "text": [
      "Saved trained model at ./models/patch-classifier-1585678608.h5 \n"
     ]
    }
   ],
   "source": [
    "import time\n",
    "\n",
    "save_dir = './models'\n",
    "model_name = 'patch-classifier-{}.h5'.format(int(time.time()))\n",
    "\n",
    "if not os.path.isdir(save_dir):\n",
    "    os.makedirs(save_dir)\n",
    "model_path = os.path.join(save_dir, model_name)\n",
    "model.save_weights(model_path)\n",
    "print('Saved trained model at %s ' % model_path)"
   ]
  },
  {
   "cell_type": "code",
   "execution_count": null,
   "metadata": {},
   "outputs": [],
   "source": []
  }
 ],
 "metadata": {
  "kernelspec": {
   "display_name": "Python 3",
   "language": "python",
   "name": "python3"
  },
  "language_info": {
   "codemirror_mode": {
    "name": "ipython",
    "version": 3
   },
   "file_extension": ".py",
   "mimetype": "text/x-python",
   "name": "python",
   "nbconvert_exporter": "python",
   "pygments_lexer": "ipython3",
   "version": "3.6.9"
  }
 },
 "nbformat": 4,
 "nbformat_minor": 4
}
