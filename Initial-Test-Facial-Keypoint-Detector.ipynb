{
 "cells": [
  {
   "cell_type": "markdown",
   "metadata": {},
   "source": [
    "# Initial Test of Facial Keypoint Detector\n",
    "## Without PCA and an SVM for each class\n",
    "\n",
    "First we need to identify the keypoint detector model that we will be using. \n",
    "\n",
    "MTCNN - Tensorflow\n",
    "https://github.com/ipazc/mtcnn\n",
    "(Appears to be pretrained)\n",
    "It appears to provide a few facial keypoints. May be useful for patch based approach probably not for direct-point position approach.\n",
    "\n",
    "Pytorch-Facial-Keypoints - Pytorch\n",
    "https://github.com/fiyero/pytorch_facial_keypoints\n",
    "(Not pretrained)\n",
    "Generates keypoints around face but excludes ears. Can be used for direct-point position approach.\n",
    "\n",
    "Openface - in Lua?\n",
    "https://github.com/cmusatyalab/openface\n",
    "(Might be pretrained)\n",
    "Not sure if it generates keypoints\n",
    "\n",
    "Openface - \n",
    "https://github.com/TadasBaltrusaitis/OpenFace\n",
    "(Pretrained models)\n",
    "High number of facial points. Can be used for direct-point position approach.\n",
    "\n",
    "Facial-Landmark\n",
    "https://github.com/huohuotm/Facial-Landmark\n",
    "(pretrained models)\n",
    "High number of facial points. Can be used for direct-point position approach.\n",
    "\n",
    "Face-Recognition\n",
    "https://github.com/ageitgey/face_recognition\n",
    "(Is pretrained and comes as a library)\n",
    "Detects facial points.\n",
    "\n",
    "## Preprocessing images\n",
    "TODO ?\n",
    "\n",
    "## Processing on keypoints\n",
    "TODO ?\n",
    "\n",
    "## For the classifier\n",
    "https://scikit-learn.org/stable/modules/svm.html\n",
    "Recommend Linear SVC first"
   ]
  },
  {
   "cell_type": "code",
   "execution_count": null,
   "metadata": {},
   "outputs": [],
   "source": []
  },
  {
   "cell_type": "markdown",
   "metadata": {},
   "source": [
    "# Second approach is an end-to-end solution\n",
    "\n",
    "Something akin to https://github.com/ZER-0-NE/ML_problems"
   ]
  },
  {
   "cell_type": "code",
   "execution_count": null,
   "metadata": {},
   "outputs": [],
   "source": []
  }
 ],
 "metadata": {
  "kernelspec": {
   "display_name": "Python 3",
   "language": "python",
   "name": "python3"
  },
  "language_info": {
   "codemirror_mode": {
    "name": "ipython",
    "version": 3
   },
   "file_extension": ".py",
   "mimetype": "text/x-python",
   "name": "python",
   "nbconvert_exporter": "python",
   "pygments_lexer": "ipython3",
   "version": "3.7.5"
  }
 },
 "nbformat": 4,
 "nbformat_minor": 4
}
